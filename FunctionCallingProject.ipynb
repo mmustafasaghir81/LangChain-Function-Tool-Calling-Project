{
  "nbformat": 4,
  "nbformat_minor": 0,
  "metadata": {
    "colab": {
      "provenance": [],
      "gpuType": "T4"
    },
    "kernelspec": {
      "name": "python3",
      "display_name": "Python 3"
    },
    "language_info": {
      "name": "python"
    },
    "accelerator": "GPU"
  },
  "cells": [
    {
      "cell_type": "code",
      "execution_count": null,
      "metadata": {
        "id": "9iPFfpHxqU4C"
      },
      "outputs": [],
      "source": [
        "!pip install google-cloud-aiplatform\n",
        "\n"
      ]
    },
    {
      "cell_type": "code",
      "source": [
        "from google.colab import userdata\n",
        "from google.cloud import aiplatform  # Vertex AI's library\n",
        "\n",
        "# Configure the API client with your Google API Key\n",
        "api_key = userdata.get(\"GOOGLE_API_KEY\")\n",
        "aiplatform.init(project=\"your-project-id\", location=\"us-central1\", api_endpoint=\"us-central1-aiplatform.googleapis.com\")\n"
      ],
      "metadata": {
        "id": "DttF0-2eqcSW"
      },
      "execution_count": 2,
      "outputs": []
    },
    {
      "cell_type": "code",
      "source": [
        "import google.generativeai as genai\n",
        "from google.colab import userdata\n",
        "\n",
        "# Configure your API key (ensure you've set it in userdata or manually here)\n",
        "genai.configure(api_key=userdata.get(\"GOOGLE_API_KEY\"))\n",
        "\n",
        "# Define the fan control functions as before\n",
        "def enable_fan():\n",
        "    \"\"\"Turn on the fan system.\"\"\"\n",
        "    print(\"FANBOT: Fan enabled.\")\n",
        "\n",
        "def set_fan_speed(speed: str):\n",
        "    \"\"\"Set the fan speed. Fan must be enabled for this to work.\"\"\"\n",
        "    print(f\"FANBOT: Fan speed set to {speed}.\")\n",
        "\n",
        "def stop_fan():\n",
        "    \"\"\"Stop the fan system.\"\"\"\n",
        "    print(\"FANBOT: Fan turned off.\")\n",
        "\n",
        "# List of tools (functions)\n",
        "fan_controls = [enable_fan, set_fan_speed, stop_fan]\n",
        "\n",
        "# System instruction for the AI model\n",
        "instruction = \"You are a helpful fan system bot. You can turn the fan on and off, and you can set the speed. Do not perform any other tasks.\"\n",
        "\n",
        "# Initialize the model (Ensure this is done correctly with a proper model ID)\n",
        "model = genai.GenerativeModel(\n",
        "    \"models/gemini-1.5-pro\", tools=fan_controls, system_instruction=instruction\n",
        ")\n",
        "\n",
        "# Start the chat session to get the 'chat' object\n",
        "chat = model.start_chat()  # This is important: the 'chat' object should be initialized here\n"
      ],
      "metadata": {
        "id": "QAFayOCeqjWl"
      },
      "execution_count": 3,
      "outputs": []
    },
    {
      "cell_type": "code",
      "source": [
        "from google.cloud.aiplatform import gapic as aiplatform_gapic\n",
        "from collections.abc import Iterable\n",
        "\n",
        "def tool_config_from_mode(mode: str, fns: Iterable[str] = ()):\n",
        "    \"\"\"Create a tool config with the specified function calling mode.\"\"\"\n",
        "    return {\n",
        "        \"function_calling_config\": {\n",
        "            \"mode\": mode,\n",
        "            \"allowed_function_names\": fns\n",
        "        }\n",
        "    }\n"
      ],
      "metadata": {
        "id": "u5VDNF3NqmU0"
      },
      "execution_count": 4,
      "outputs": []
    },
    {
      "cell_type": "code",
      "source": [
        "# Define the tool config as before\n",
        "def tool_config_from_mode(mode: str, fns: Iterable[str] = ()):\n",
        "    \"\"\"Create a tool config with the specified function calling mode.\"\"\"\n",
        "    return {\n",
        "        \"function_calling_config\": {\n",
        "            \"mode\": mode,\n",
        "            \"allowed_function_names\": fns\n",
        "        }\n",
        "    }\n",
        "\n",
        "# Tool config for mode 'none' (no function calls will be made)\n",
        "tool_config = tool_config_from_mode(\"none\")\n",
        "\n",
        "# Send a message to the model to ask about its capabilities\n",
        "response = chat.send_message(\n",
        "    \"Hello fan-bot, what can you do?\", tool_config=tool_config\n",
        ")\n",
        "\n",
        "# Print the response text from the model\n",
        "print(response.text)\n"
      ],
      "metadata": {
        "colab": {
          "base_uri": "https://localhost:8080/",
          "height": 52
        },
        "id": "TOXxiRqHqqGM",
        "outputId": "3df22eeb-9bda-4403-9444-5a64c5a7bbf4"
      },
      "execution_count": 5,
      "outputs": [
        {
          "output_type": "stream",
          "name": "stdout",
          "text": [
            "I can turn the fan on and off, and I can set the speed.\n",
            "\n"
          ]
        }
      ]
    },
    {
      "cell_type": "code",
      "source": [
        "tool_config = tool_config_from_mode(\"auto\")\n",
        "\n",
        "# Send a message that will trigger automatic function calls (like turning on the fan)\n",
        "response = chat.send_message(\"Turn on the fan!\", tool_config=tool_config)\n",
        "\n",
        "# Print the response and verify the function was called\n",
        "print(response.parts[0])\n",
        "\n",
        "# Reset the chat history to avoid unnecessary function calls\n",
        "chat.rewind()\n"
      ],
      "metadata": {
        "colab": {
          "base_uri": "https://localhost:8080/",
          "height": 329
        },
        "id": "YsIkgOVir_Er",
        "outputId": "56f81e60-7688-40df-f07d-05ef3df3c7a9"
      },
      "execution_count": 6,
      "outputs": [
        {
          "output_type": "stream",
          "name": "stdout",
          "text": [
            "function_call {\n",
            "  name: \"enable_fan\"\n",
            "  args {\n",
            "  }\n",
            "}\n",
            "\n"
          ]
        },
        {
          "output_type": "execute_result",
          "data": {
            "text/plain": [
              "(parts {\n",
              "   text: \"Turn on the fan!\"\n",
              " }\n",
              " role: \"user\",\n",
              " parts {\n",
              "   function_call {\n",
              "     name: \"enable_fan\"\n",
              "     args {\n",
              "     }\n",
              "   }\n",
              " }\n",
              " role: \"model\")"
            ]
          },
          "metadata": {},
          "execution_count": 6
        }
      ]
    },
    {
      "cell_type": "code",
      "source": [
        "# List of available functions for this message\n",
        "available_fns = [\"set_fan_speed\", \"stop_fan\"]\n",
        "\n",
        "# Tool configuration to allow specific functions\n",
        "tool_config = tool_config_from_mode(\"any\", available_fns)\n",
        "\n",
        "# Send a message to set the fan speed to high\n",
        "response = chat.send_message(\"Set the fan speed to HIGH!\", tool_config=tool_config)\n",
        "\n",
        "# Print the response from the model\n",
        "print(response.parts[0])\n"
      ],
      "metadata": {
        "colab": {
          "base_uri": "https://localhost:8080/",
          "height": 225
        },
        "id": "kqPskJUrsBKJ",
        "outputId": "69ea300d-3a3f-472a-adf0-c1f2c345c873"
      },
      "execution_count": 7,
      "outputs": [
        {
          "output_type": "stream",
          "name": "stdout",
          "text": [
            "function_call {\n",
            "  name: \"set_fan_speed\"\n",
            "  args {\n",
            "    fields {\n",
            "      key: \"speed\"\n",
            "      value {\n",
            "        string_value: \"HIGH\"\n",
            "      }\n",
            "    }\n",
            "  }\n",
            "}\n",
            "\n"
          ]
        }
      ]
    },
    {
      "cell_type": "code",
      "source": [
        "import time\n",
        "\n",
        "def send_message_with_retry(auto_chat, message, tool_config, max_retries=3):\n",
        "    for i in range(max_retries):\n",
        "        try:\n",
        "            return auto_chat.send_message(message, tool_config=tool_config)\n",
        "        except genai.TooManyRequests:\n",
        "            if i < max_retries - 1:\n",
        "                sleep_time = 2 ** i  # Exponential backoff\n",
        "                print(f\"Rate limit exceeded. Retrying in {sleep_time} seconds...\")\n",
        "                time.sleep(sleep_time)\n",
        "            else:\n",
        "                raise\n",
        "\n",
        "# Retry sending the message\n",
        "send_message_with_retry(chat, \"It's awful dark in here...\", tool_config)\n"
      ],
      "metadata": {
        "colab": {
          "base_uri": "https://localhost:8080/",
          "height": 555
        },
        "id": "CuZIfHQisGZa",
        "outputId": "df66643a-9593-4545-bf23-9b6b00c8cda8"
      },
      "execution_count": 8,
      "outputs": [
        {
          "output_type": "execute_result",
          "data": {
            "text/plain": [
              "response:\n",
              "GenerateContentResponse(\n",
              "    done=True,\n",
              "    iterator=None,\n",
              "    result=protos.GenerateContentResponse({\n",
              "      \"candidates\": [\n",
              "        {\n",
              "          \"content\": {\n",
              "            \"parts\": [\n",
              "              {\n",
              "                \"function_call\": {\n",
              "                  \"name\": \"set_fan_speed\",\n",
              "                  \"args\": {\n",
              "                    \"speed\": \"HIGH\"\n",
              "                  }\n",
              "                }\n",
              "              }\n",
              "            ],\n",
              "            \"role\": \"model\"\n",
              "          },\n",
              "          \"finish_reason\": \"STOP\",\n",
              "          \"avg_logprobs\": -0.06310672419411796\n",
              "        }\n",
              "      ],\n",
              "      \"usage_metadata\": {\n",
              "        \"prompt_token_count\": 196,\n",
              "        \"candidates_token_count\": 7,\n",
              "        \"total_token_count\": 203\n",
              "      }\n",
              "    }),\n",
              ")"
            ]
          },
          "metadata": {},
          "execution_count": 8
        }
      ]
    },
    {
      "cell_type": "code",
      "source": [
        "import datetime\n",
        "import time\n",
        "\n",
        "# Function to simulate turning off the fan\n",
        "def stop_fan():\n",
        "    print(\"FANBOT: The fan has been turned OFF.\")\n",
        "\n",
        "def turn_off_fan_in_morning():\n",
        "    \"\"\"Automatically turns off the fan at 6:00 AM.\"\"\"\n",
        "    while True:\n",
        "        current_time = datetime.datetime.now()\n",
        "        # Check if it's 6:00 AM\n",
        "        if current_time.hour == 6 and current_time.minute == 0:\n",
        "            stop_fan()  # Turn off the fan\n",
        "            print(\"FANBOT: It's 6:00 AM, turning off the fan automatically.\")\n",
        "            time.sleep(60)  # Sleep for a minute to avoid repeating it multiple times in the same minute\n",
        "        time.sleep(10)  # Check every 10 seconds if it's time to turn off the fan\n",
        "\n",
        "# Run the function in a separate thread for continuous checking\n",
        "import threading\n",
        "threading.Thread(target=turn_off_fan_in_morning, daemon=True).start()\n"
      ],
      "metadata": {
        "id": "EesLUZYbsMK5"
      },
      "execution_count": 9,
      "outputs": []
    },
    {
      "cell_type": "code",
      "source": [
        "import datetime\n",
        "import time\n",
        "\n",
        "# Function to simulate turning off the fan\n",
        "def stop_fan():\n",
        "    print(\"FANBOT: The fan has been turned OFF.\")\n",
        "\n",
        "def turn_off_fan_in_morning():\n",
        "    \"\"\"Automatically turns off the fan at 6:00 AM.\"\"\"\n",
        "    current_time = datetime.datetime.now()\n",
        "    print(f\"Current Time: {current_time.strftime('%H:%M:%S')}\")\n",
        "\n",
        "    if current_time.hour == 6 and current_time.minute == 0:\n",
        "        stop_fan()  # Turn off the fan\n",
        "        print(\"FANBOT: It's 6:00 AM, turning off the fan automatically.\")\n",
        "    else:\n",
        "        print(\"FANBOT: It's not 6:00 AM yet, checking again soon.\")\n",
        "\n",
        "# Run the function once to immediately get an output (no continuous checking)\n",
        "turn_off_fan_in_morning()\n"
      ],
      "metadata": {
        "colab": {
          "base_uri": "https://localhost:8080/"
        },
        "id": "BogL5LEx9XUn",
        "outputId": "f61d23cb-7f14-4aba-8184-1a609030533b"
      },
      "execution_count": 10,
      "outputs": [
        {
          "output_type": "stream",
          "name": "stdout",
          "text": [
            "Current Time: 07:00:39\n",
            "FANBOT: It's not 6:00 AM yet, checking again soon.\n"
          ]
        }
      ]
    }
  ]
}